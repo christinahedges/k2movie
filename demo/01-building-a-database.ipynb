{
 "cells": [
  {
   "cell_type": "markdown",
   "metadata": {},
   "source": [
    "# Building The Database"
   ]
  },
  {
   "cell_type": "markdown",
   "metadata": {},
   "source": [
    "In order to quickly create movies anywhere on the focal plane *k2movie* restructures K2 data into large hdf5 tables. These are easy to read quickly into modules such as pandas and can be used in a low memory mode. This requires a lot of input initially to create the database, but it only needs to be run once. If you already know that you only want data from a specific channel, I recommend only creating a database for that channel to speed up the process. (There are $\\lesssim$ 78 channels active on K2 and 13 campaigns available at time of writing, so the crunch time for this can really add up.)"
   ]
  },
  {
   "cell_type": "code",
   "execution_count": 1,
   "metadata": {},
   "outputs": [
    {
     "name": "stderr",
     "output_type": "stream",
     "text": [
      "Usage: k2movie [OPTIONS] COMMAND [ARGS]...\n",
      "\n",
      "Error: No such command \"database\".\n"
     ]
    }
   ],
   "source": [
    "%%bash\n",
    "k2movie database ../database/ --input /Volumes/Dublin/c8-dynablack/cad_targ_soc/ --campaign 8 --channel 1 --verbose False"
   ]
  },
  {
   "cell_type": "markdown",
   "metadata": {},
   "source": [
    "If you want to see what your database structure looks like and find whether you have missing campaigns or channels you can use the *list* command. This produces a bar chart showing how many channels you have data for out of all 84. (Note that there are up to 12 channels that no longer produce data in these campaigns.)"
   ]
  },
  {
   "cell_type": "code",
   "execution_count": 3,
   "metadata": {},
   "outputs": [
    {
     "name": "stdout",
     "output_type": "stream",
     "text": [
      "----------------------\n",
      "Database Completeness:\n",
      "/Volumnes/cupertino/database/\n",
      "----------------------\n",
      "\n",
      "|c00|\t..........................................\n",
      "|c01|\t..........................................\n",
      "|c02|\t..........................................\n",
      "|c03|\t..........................................\n",
      "|c04|\t..........................................\n",
      "|c05|\t..........................................\n",
      "|c06|\t..........................................\n",
      "|c07|\t..........................................\n",
      "|c08|\t..........................................\n",
      "|c09|\t..........................................\n",
      "|c10|\t..........................................\n",
      "|c11|\t..........................................\n",
      "|c12|\t..........................................\n",
      "|c13|\t..........................................\n",
      "|c14|\t..........................................\n",
      "|c15|\t..........................................\n",
      "|c16|\t..........................................\n"
     ]
    }
   ],
   "source": [
    "%%bash\n",
    "k2movie list /Volumnes/cupertino/database/"
   ]
  },
  {
   "cell_type": "code",
   "execution_count": null,
   "metadata": {},
   "outputs": [],
   "source": []
  }
 ],
 "metadata": {
  "kernelspec": {
   "display_name": "Python 3",
   "language": "python",
   "name": "python3"
  },
  "language_info": {
   "codemirror_mode": {
    "name": "ipython",
    "version": 3
   },
   "file_extension": ".py",
   "mimetype": "text/x-python",
   "name": "python",
   "nbconvert_exporter": "python",
   "pygments_lexer": "ipython3",
   "version": "3.6.5"
  }
 },
 "nbformat": 4,
 "nbformat_minor": 2
}
