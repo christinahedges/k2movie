{
 "cells": [
  {
   "cell_type": "code",
   "execution_count": 277,
   "metadata": {},
   "outputs": [
    {
     "name": "stderr",
     "output_type": "stream",
     "text": [
      "[autoreload of k2movie failed: Traceback (most recent call last):\n",
      "  File \"/Users/ch/anaconda/lib/python3.6/site-packages/IPython/extensions/autoreload.py\", line 246, in check\n",
      "    superreload(m, reload, self.old_objects)\n",
      "  File \"/Users/ch/anaconda/lib/python3.6/site-packages/IPython/extensions/autoreload.py\", line 369, in superreload\n",
      "    module = reload(module)\n",
      "  File \"/Users/ch/anaconda/lib/python3.6/imp.py\", line 314, in reload\n",
      "    return importlib.reload(module)\n",
      "  File \"/Users/ch/anaconda/lib/python3.6/importlib/__init__.py\", line 166, in reload\n",
      "    _bootstrap._exec(spec, module)\n",
      "  File \"<frozen importlib._bootstrap>\", line 608, in _exec\n",
      "  File \"<frozen importlib._bootstrap_external>\", line 674, in exec_module\n",
      "  File \"<frozen importlib._bootstrap_external>\", line 781, in get_code\n",
      "  File \"<frozen importlib._bootstrap_external>\", line 741, in source_to_code\n",
      "  File \"<frozen importlib._bootstrap>\", line 205, in _call_with_frames_removed\n",
      "  File \"../source/k2movie.py\", line 92\n",
      "    print np.shape(a[.T])\n",
      "           ^\n",
      "SyntaxError: invalid syntax\n",
      "]\n"
     ]
    }
   ],
   "source": [
    "import dask.dataframe as dd\n",
    "import numpy as np\n",
    "import matplotlib.pyplot as plt\n",
    "import pickle\n",
    "%matplotlib inline\n",
    "dir='/Users/ch/K2/projects/chiron/database/'\n",
    "\n",
    "import pandas as pd\n",
    "df=pd.read_csv('/Users/ch/Downloads/radec.csv')\n",
    "c=SkyCoord(df.ra,df.dec,unit=(u.hourangle,u.deg))\n",
    "\n",
    "\n",
    "\n",
    "def load_cadence(campaign=None,channel=None,cadence=None,dir=dir):\n",
    "    if (channel is None):\n",
    "        fname=(dir+'c{}/{}/0.h5'.format('{0:02}'.format(campaign),'*'))\n",
    "    else:\n",
    "        fname=(dir+'c{}/{}/0.h5'.format('{0:02}'.format(campaign),'{0:02}'.format(channel)))\n",
    "    df=dd.read_hdf(fname, key='table')\n",
    "    if (cadence is None)== False:\n",
    "        xmin,xmax,ymin,ymax=(df['X'].min().compute()),(df['X'].max().compute()),(df['Y'].min().compute()),(df['Y'].max().compute())\n",
    "        ar=np.zeros((int(xmax-xmin)+1,int(ymax-ymin)+1))\n",
    "        ar[:]=np.nan\n",
    "        x,y,f=np.asarray(df[['X','Y',df.columns[4+cadence]]].compute()).T\n",
    "        ar[x.astype(int)-int(xmin),y.astype(int)-int(ymin)]=f\n",
    "        return ar\n",
    "    else:\n",
    "        a=np.asarray(df)\n",
    "        ra,dec,x,y=a[:,0:4].T\n",
    "        a=a[:,4:]\n",
    "        results={'ra':ra,'dec':dec,'x':x,'y':y,'a':a}\n",
    "        return results\n",
    "\n",
    "\n",
    "    \n",
    "def find_loc(loc):\n",
    "    #Find the location, should be it's own function. Should output the right channel number.\n",
    "    if (loc is None):\n",
    "        print ('No location specified')\n",
    "        return None\n",
    "    if (isinstance(loc,tuple) == False):\n",
    "        print ('Please pass a tuple location')\n",
    "        return None\n",
    "    xpos,ypos=loc[0],loc[1]\n",
    "    radec=False\n",
    "    if (isinstance(xpos,u.quantity.Quantity)):\n",
    "        #Specified RA and Dec\n",
    "        radec=True\n",
    "        xpos,ypos=xpos.value,ypos.value\n",
    "    if radec == True:\n",
    "        wcs_file='/Users/ch/K2/repos/k2mosaic/k2mosaic/data/wcs/c{0:02}_'.format(campaign)+'{0:02}.p'.format(channel)\n",
    "        r = pickle.load(open(wcs_file,'rb'))\n",
    "        y1,x1=(np.asarray(r.wcs_world2pix(xpos,ypos,1),dtype=int))\n",
    "        \n",
    "    else:\n",
    "        y1,x1=ypos,xpos\n",
    "        \n",
    "    if y1<=0. or y1>=1034:\n",
    "        print ('Out of bounds')\n",
    "    if x1<=0. or x1>=1034:\n",
    "        print ('Out of bounds')\n",
    "    return x1,y1,radec\n",
    "    \n",
    "    \n",
    "    \n",
    "\n",
    "    \n",
    "    \n",
    "def load_loc(campaign=None,channel=None,cadence=None,loc=(512,512),dir=dir,tol=50,return_radec=False,return_xy=False):\n",
    "    '''Loads a location on the focal plane based on either input RAs and Decs or input X and Y positions\n",
    "    Specify either a single cadence, an array of cadences or None for all.\n",
    "    Specify a channel at the moment, should remove.'''\n",
    "\n",
    "    x1,y1,radec=find_loc(loc)\n",
    "\n",
    "\n",
    "    #Load the channels into a dask array\n",
    "    if (channel is None):\n",
    "        fname=(dir+'c{}/{}/0.h5'.format('{0:02}'.format(campaign),'*'))\n",
    "    else:\n",
    "        fname=(dir+'c{}/{}/0.h5'.format('{0:02}'.format(campaign),'{0:02}'.format(channel)))\n",
    "    df=dd.read_hdf(fname, key='table')\n",
    "\n",
    "    \n",
    "    #If a cadence is specified...\n",
    "    if (cadence is None) == False:\n",
    "        #Trim down to only the important data.\n",
    "        df1=df[(df['X']>x1-tol)&(df['X']<x1+tol)&(df['Y']>y1-tol)&(df['Y']<y1+tol)]\n",
    "\n",
    "\n",
    "        ar=np.zeros((tol*2,tol*2))*np.nan\n",
    "        x,y,f=np.asarray(df1[['X','Y',df1.columns[4+cadence]]].compute()).T\n",
    "        ar[x.astype(int)-x1+tol,y.astype(int)-y1+tol]=f        \n",
    "        if (return_radec == True) or (return_xy == True):\n",
    "            x=np.arange(-tol,tol)+x1\n",
    "            y=np.arange(-tol,tol)+y1\n",
    "            X,Y=np.meshgrid(y,x)\n",
    "            if return_xy == True:\n",
    "                return ar,X,Y\n",
    "            wcs_file='/Users/ch/K2/repos/k2mosaic/k2mosaic/data/wcs/c{0:02}_'.format(campaign)+'{0:02}.p'.format(channel)\n",
    "            r = pickle.load(open(wcs_file,'rb'))\n",
    "            ra,dec=r.wcs_pix2world(X.ravel(),Y.ravel(),1)\n",
    "            ra,dec=np.reshape(ra,np.shape(X)),np.reshape(dec,np.shape(X))\n",
    "            return ar,ra,dec\n",
    "        else:\n",
    "            return ar\n",
    "        \n",
    "        \n",
    "    #If no cadence is specified...    \n",
    "    else:\n",
    "        #Trim down to only the important data.\n",
    "        df1=df[(df['X']>x1-tol)&(df['X']<x1+tol)&(df['Y']>y1-tol)&(df['Y']<y1+tol)]\n",
    "        a=np.asarray(df1.compute())\n",
    "        x,y=a[:,2:4].T\n",
    "        a=a[:,4:].T\n",
    "        ar=np.reshape(np.zeros(tol*2*tol*2*len(a)),(tol*2,tol*2,len(a)))\n",
    "        ar[x.astype(int)-x1+tol,y.astype(int)-y1+tol,:]=a.T        \n",
    "        if (return_radec == True) or (return_xy == True):\n",
    "            x=np.arange(-tol,tol)+x1\n",
    "            y=np.arange(-tol,tol)+y1\n",
    "            X,Y=np.meshgrid(y,x)\n",
    "            if return_xy == True:\n",
    "                return ar,X,Y\n",
    "            wcs_file='/Users/ch/K2/repos/k2mosaic/k2mosaic/data/wcs/c{0:02}_'.format(campaign)+'{0:02}.p'.format(channel)\n",
    "            r = pickle.load(open(wcs_file,'rb'))\n",
    "            ra,dec=r.wcs_pix2world(X.ravel(),Y.ravel(),1)\n",
    "            ra,dec=np.reshape(ra,np.shape(X)),np.reshape(dec,np.shape(X))\n",
    "            return ar,ra,dec\n",
    "        else:\n",
    "            return ar\n",
    "\n",
    "\n"
   ]
  },
  {
   "cell_type": "code",
   "execution_count": 172,
   "metadata": {},
   "outputs": [
    {
     "name": "stderr",
     "output_type": "stream",
     "text": [
      "WARNING: FITSFixedWarning: The WCS transformation has more axes (2) than the image it is associated with (0) [astropy.wcs.wcs]\n"
     ]
    },
    {
     "name": "stdout",
     "output_type": "stream",
     "text": [
      "CPU times: user 1.35 s, sys: 451 ms, total: 1.8 s\n",
      "Wall time: 1.8 s\n"
     ]
    },
    {
     "data": {
      "text/plain": [
       "<matplotlib.contour.QuadContourSet at 0x17d2cd860>"
      ]
     },
     "execution_count": 172,
     "metadata": {},
     "output_type": "execute_result"
    },
    {
     "data": {
      "image/png": "[encoded data removed]",
      "text/plain": [
       "<matplotlib.figure.Figure at 0x155368358>"
      ]
     },
     "metadata": {},
     "output_type": "display_data"
    }
   ],
   "source": [
    "%time ar,ra,dec=load_loc(campaign=0,channel=23,cadence=1999,tol=512,return_radec=True)\n",
    "plt.figure(figsize=(7,7))\n",
    "plt.contourf(ra,dec,np.log10(ar),vmin=3,vmax=5)\n"
   ]
  },
  {
   "cell_type": "code",
   "execution_count": null,
   "metadata": {},
   "outputs": [],
   "source": []
  },
  {
   "cell_type": "code",
   "execution_count": 98,
   "metadata": {},
   "outputs": [
    {
     "data": {
      "text/plain": [
       "<matplotlib.contour.QuadContourSet at 0x11bb77d30>"
      ]
     },
     "execution_count": 98,
     "metadata": {},
     "output_type": "execute_result"
    },
    {
     "data": {
      "image/png": "[encoded data removed]",
      "text/plain": [
       "<matplotlib.figure.Figure at 0x11be7c7b8>"
      ]
     },
     "metadata": {},
     "output_type": "display_data"
    }
   ],
   "source": [
    "plt.contourf(ar[1],ar[2],ar[0][:,:,2000])"
   ]
  },
  {
   "cell_type": "code",
   "execution_count": null,
   "metadata": {
    "scrolled": true
   },
   "outputs": [],
   "source": []
  },
  {
   "cell_type": "code",
   "execution_count": 278,
   "metadata": {},
   "outputs": [
    {
     "name": "stderr",
     "output_type": "stream",
     "text": [
      "WARNING: FITSFixedWarning: The WCS transformation has more axes (2) than the image it is associated with (0) [astropy.wcs.wcs]\n"
     ]
    },
    {
     "data": {
      "text/plain": [
       "(18.4, 18.7)"
      ]
     },
     "execution_count": 278,
     "metadata": {},
     "output_type": "execute_result"
    },
    {
     "data": {
      "image/png": "[encoded data removed]",
      "text/plain": [
       "<matplotlib.figure.Figure at 0x11caf0048>"
      ]
     },
     "metadata": {},
     "output_type": "display_data"
    }
   ],
   "source": [
    "from astropy.io import fits\n",
    "cmap=plt.get_cmap('Greys_r')\n",
    "cmap.set_bad('white',1.)\n",
    "h=fits.open('/Users/ch/K2/projects/chiron/data/c0-ch01/k2mosaic-c00-ch01-cad87434.fits')\n",
    "wcs_file='/Users/ch/K2/repos/k2mosaic/k2mosaic/data/wcs/c{0:02}_'.format(0)+'{0:02}.p'.format(1)\n",
    "r = pickle.load(open(wcs_file,'rb'))\n",
    "s=np.shape(h[1].data)\n",
    "x,y=np.meshgrid(np.arange(s[1]),np.arange(s[0]))\n",
    "ra,dec=r.wcs_pix2world(x.ravel(),y.ravel(),1)\n",
    "ra,dec=np.reshape(ra,s),np.reshape(dec,s)\n",
    "plt.contourf(ra,dec,np.log10(h[1].data),cmap=cmap,vmin=0,vmax=10)\n",
    "plt.scatter(c.ra.deg,c.dec.deg,edgecolor='C3',marker='o',s=100,facecolor='none')\n",
    "plt.xlim(103.8,104)\n",
    "plt.ylim(18.4,18.7)"
   ]
  },
  {
   "cell_type": "code",
   "execution_count": 209,
   "metadata": {},
   "outputs": [
    {
     "name": "stdout",
     "output_type": "stream",
     "text": [
      "The autoreload extension is already loaded. To reload it, use:\n",
      "  %reload_ext autoreload\n"
     ]
    }
   ],
   "source": [
    "import sys\n",
    "sys.path.append('../source/')\n",
    "import k2movie\n",
    "%load_ext autoreload\n",
    "%autoreload 2"
   ]
  },
  {
   "cell_type": "code",
   "execution_count": null,
   "metadata": {},
   "outputs": [],
   "source": [
    "mov=k2movie.k2movie(cadence=0,loc=(104.45*u.deg,18.95*u.deg),verbose=True,return_radec=True,tol=15).compute()"
   ]
  },
  {
   "cell_type": "code",
   "execution_count": 272,
   "metadata": {},
   "outputs": [
    {
     "data": {
      "text/plain": [
       "<matplotlib.contour.QuadContourSet at 0x1659c4a90>"
      ]
     },
     "execution_count": 272,
     "metadata": {},
     "output_type": "execute_result"
    },
    {
     "data": {
      "image/png": "[encoded data removed]",
      "text/plain": [
       "<matplotlib.figure.Figure at 0x1638e5b00>"
      ]
     },
     "metadata": {},
     "output_type": "display_data"
    }
   ],
   "source": [
    "plt.contourf(mov[1],mov[2],mov[0][:,:,1])"
   ]
  },
  {
   "cell_type": "code",
   "execution_count": 287,
   "metadata": {},
   "outputs": [
    {
     "name": "stdout",
     "output_type": "stream",
     "text": [
      "(30, 30, 3753)\n"
     ]
    }
   ],
   "source": [
    "print (np.shape(mov[0]))"
   ]
  },
  {
   "cell_type": "code",
   "execution_count": 295,
   "metadata": {},
   "outputs": [
    {
     "data": {
      "text/html": [
       "<div>\n",
       "<style>\n",
       "    .dataframe thead tr:only-child th {\n",
       "        text-align: right;\n",
       "    }\n",
       "\n",
       "    .dataframe thead th {\n",
       "        text-align: left;\n",
       "    }\n",
       "\n",
       "    .dataframe tbody tr th {\n",
       "        vertical-align: top;\n",
       "    }\n",
       "</style>\n",
       "<table border=\"1\" class=\"dataframe\">\n",
       "  <thead>\n",
       "    <tr style=\"text-align: right;\">\n",
       "      <th></th>\n",
       "      <th>ra</th>\n",
       "      <th>dec</th>\n",
       "      <th>kpmag</th>\n",
       "    </tr>\n",
       "  </thead>\n",
       "  <tbody>\n",
       "    <tr>\n",
       "      <th>0</th>\n",
       "      <td>06 57 39.600</td>\n",
       "      <td>+19 35 03.98</td>\n",
       "      <td>9.5</td>\n",
       "    </tr>\n",
       "  </tbody>\n",
       "</table>\n",
       "</div>"
      ],
      "text/plain": [
       "             ra           dec  kpmag\n",
       "0  06 57 39.600  +19 35 03.98    9.5"
      ]
     },
     "execution_count": 295,
     "metadata": {},
     "output_type": "execute_result"
    }
   ],
   "source": [
    "df.loc[[0]]"
   ]
  },
  {
   "cell_type": "code",
   "execution_count": null,
   "metadata": {
    "collapsed": true
   },
   "outputs": [],
   "source": []
  }
 ],
 "metadata": {
  "kernelspec": {
   "display_name": "Python 3",
   "language": "python",
   "name": "python3"
  },
  "language_info": {
   "codemirror_mode": {
    "name": "ipython",
    "version": 3
   },
   "file_extension": ".py",
   "mimetype": "text/x-python",
   "name": "python",
   "nbconvert_exporter": "python",
   "pygments_lexer": "ipython3",
   "version": "3.6.2"
  }
 },
 "nbformat": 4,
 "nbformat_minor": 2
}
