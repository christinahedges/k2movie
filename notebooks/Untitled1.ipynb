{
 "cells": [
  {
   "cell_type": "code",
   "execution_count": 68,
   "metadata": {},
   "outputs": [
    {
     "name": "stdout",
     "output_type": "stream",
     "text": [
      "The autoreload extension is already loaded. To reload it, use:\n",
      "  %reload_ext autoreload\n"
     ]
    }
   ],
   "source": [
    "%load_ext autoreload\n",
    "%autoreload 2\n",
    "import k2movie\n",
    "k2movie.log.setLevel('DEBUG')\n",
    "import numpy as np"
   ]
  },
  {
   "cell_type": "code",
   "execution_count": 69,
   "metadata": {},
   "outputs": [
    {
     "name": "stderr",
     "output_type": "stream",
     "text": [
      "DEBUG:\tk2movie :Campaign: 1\n",
      "DEBUG:\tk2movie :Channel: 21\n",
      "DEBUG:\tk2movie :Output file: out.mp4\n",
      "DEBUG:\tk2movie :Found static object K2-9\n",
      "DEBUG:\tk2movie :Read in database\n",
      "DEBUG:\tk2movie :Read in WCS\n",
      "DEBUG:\tk2movie :Finding location on channel\n",
      "DEBUG:\tk2movie :Trimming data\n",
      "DEBUG:\tk2movie :Creating data array\n",
      "DEBUG:\tk2movie :Finished (6.6s)\n"
     ]
    }
   ],
   "source": [
    "#%debug\n",
    "mov = k2movie.movie('K2-9', 1, 21, aperture=10)"
   ]
  },
  {
   "cell_type": "code",
   "execution_count": 70,
   "metadata": {},
   "outputs": [
    {
     "data": {
      "text/plain": [
       "117121255.9536652"
      ]
     },
     "execution_count": 70,
     "metadata": {},
     "output_type": "execute_result"
    }
   ],
   "source": [
    "np.nansum(mov.ar)"
   ]
  },
  {
   "cell_type": "code",
   "execution_count": 71,
   "metadata": {},
   "outputs": [
    {
     "name": "stderr",
     "output_type": "stream",
     "text": [
      "DEBUG:\tk2movie :Creating movie\n",
      "DEBUG:\tk2movie :Saved. (1.1e+02s)\n"
     ]
    }
   ],
   "source": [
    "mov.movie()"
   ]
  },
  {
   "cell_type": "code",
   "execution_count": null,
   "metadata": {},
   "outputs": [],
   "source": []
  },
  {
   "cell_type": "code",
   "execution_count": null,
   "metadata": {},
   "outputs": [],
   "source": []
  },
  {
   "cell_type": "code",
   "execution_count": null,
   "metadata": {},
   "outputs": [],
   "source": []
  }
 ],
 "metadata": {
  "kernelspec": {
   "display_name": "Python 3",
   "language": "python",
   "name": "python3"
  },
  "language_info": {
   "codemirror_mode": {
    "name": "ipython",
    "version": 3
   },
   "file_extension": ".py",
   "mimetype": "text/x-python",
   "name": "python",
   "nbconvert_exporter": "python",
   "pygments_lexer": "ipython3",
   "version": "3.6.5"
  }
 },
 "nbformat": 4,
 "nbformat_minor": 2
}
