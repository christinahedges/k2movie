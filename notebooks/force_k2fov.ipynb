{
 "cells": [
  {
   "cell_type": "code",
   "execution_count": 26,
   "metadata": {
    "collapsed": true
   },
   "outputs": [],
   "source": [
    "from K2fov.K2onSilicon import onSiliconCheck,fields\n",
    "from K2fov.K2findCampaigns import findCampaigns\n",
    "import numpy as np"
   ]
  },
  {
   "cell_type": "code",
   "execution_count": 30,
   "metadata": {},
   "outputs": [
    {
     "name": "stdout",
     "output_type": "stream",
     "text": [
      "[6, 17]\n"
     ]
    }
   ],
   "source": [
    "fieldnum=6\n",
    "k = fields.getKeplerFov(fieldnum)\n",
    "ra=[199]\n",
    "dec=[-10]\n",
    "list(map(onSiliconCheck,ra,dec,np.repeat(k,len(ra))))\n",
    "channel=k.getChannelColRow(ra,dec)[0]\n",
    "campaigns=findCampaigns(ra,dec)\n",
    "print (campaigns)"
   ]
  },
  {
   "cell_type": "code",
   "execution_count": null,
   "metadata": {},
   "outputs": [],
   "source": []
  },
  {
   "cell_type": "code",
   "execution_count": null,
   "metadata": {
    "collapsed": true
   },
   "outputs": [],
   "source": []
  }
 ],
 "metadata": {
  "kernelspec": {
   "display_name": "Python 3",
   "language": "python",
   "name": "python3"
  },
  "language_info": {
   "codemirror_mode": {
    "name": "ipython",
    "version": 3
   },
   "file_extension": ".py",
   "mimetype": "text/x-python",
   "name": "python",
   "nbconvert_exporter": "python",
   "pygments_lexer": "ipython3",
   "version": "3.6.2"
  }
 },
 "nbformat": 4,
 "nbformat_minor": 2
}
