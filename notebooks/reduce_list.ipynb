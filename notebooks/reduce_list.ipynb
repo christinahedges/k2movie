{
 "cells": [
  {
   "cell_type": "code",
   "execution_count": 321,
   "metadata": {},
   "outputs": [],
   "source": [
    "import pandas as pd\n",
    "import pickle\n",
    "from astropy.utils.data import download_file\n",
    "import numpy as np\n",
    "import k2mosaic\n",
    "\n",
    "def reduce_list(infile,objfile,objname,overwrite=True):\n",
    "    obj=pickle.load(open(objfile,'rb'))\n",
    "    pos=np.where(obj.Name==objname)[0]\n",
    "    if len(pos)!=1:\n",
    "        print('Cannot find object')\n",
    "        return None\n",
    "    i=np.asarray(obj.loc[pos,['InvestigationID']])[0][0]\n",
    "    campaign=np.asarray(obj.loc[pos,['Campaign']])[0][0]\n",
    "    targlisturl='https://keplerscience.arc.nasa.gov/data/campaigns/c{}/K2Campaign{}targets.csv'.format(campaign,campaign)\n",
    "    targlistfname=download_file(targlisturl,cache=True)\n",
    "    df=pd.read_csv(targlistfname)\n",
    "\n",
    "    ok=[(i in d[' Investigation IDs']) for j,d in df.iterrows()]\n",
    "\n",
    "    df=df[ok].reset_index(drop=True)\n",
    "    urls=np.loadtxt(infile,dtype=str)\n",
    "    urls_i=np.asarray([(u.split('ktwo')[-1]).split('-')[0] for u in urls],dtype=int)\n",
    "    df_i=np.asarray(df[df.columns[0]],dtype=int)\n",
    "    \n",
    "    ok=np.in1d(urls_i,df_i)\n",
    "    if overwrite==True:\n",
    "        np.savetxt(infile,urls[ok],fmt=\"%s\")\n",
    "        return\n",
    "    else:\n",
    "        return urls[ok]\n"
   ]
  },
  {
   "cell_type": "code",
   "execution_count": 330,
   "metadata": {},
   "outputs": [],
   "source": [
    "infile='../data/c6-ch39/list.txt'\n",
    "objname='23958'\n",
    "objfile='../source/out.p'\n",
    "urls=reduce_list(infile,objfile,objname,overwrite=True)\n",
    "urls"
   ]
  },
  {
   "cell_type": "code",
   "execution_count": 334,
   "metadata": {
    "scrolled": false
   },
   "outputs": [
    {
     "data": {
      "text/html": [
       "<div>\n",
       "<style>\n",
       "    .dataframe thead tr:only-child th {\n",
       "        text-align: right;\n",
       "    }\n",
       "\n",
       "    .dataframe thead th {\n",
       "        text-align: left;\n",
       "    }\n",
       "\n",
       "    .dataframe tbody tr th {\n",
       "        vertical-align: top;\n",
       "    }\n",
       "</style>\n",
       "<table border=\"1\" class=\"dataframe\">\n",
       "  <thead>\n",
       "    <tr style=\"text-align: right;\">\n",
       "      <th></th>\n",
       "      <th>InvestigationID</th>\n",
       "      <th>Name</th>\n",
       "      <th>Campaign</th>\n",
       "      <th>dist</th>\n",
       "      <th>tpfs</th>\n",
       "      <th>minmag</th>\n",
       "      <th>maxmag</th>\n",
       "    </tr>\n",
       "  </thead>\n",
       "  <tbody>\n",
       "    <tr>\n",
       "      <th>89</th>\n",
       "      <td>LC_LAGOON_TILE</td>\n",
       "      <td>LAGOON</td>\n",
       "      <td>9</td>\n",
       "      <td>0</td>\n",
       "      <td>20</td>\n",
       "      <td>0</td>\n",
       "      <td>0</td>\n",
       "    </tr>\n",
       "    <tr>\n",
       "      <th>90</th>\n",
       "      <td>Quaoar_TILE</td>\n",
       "      <td>Quaoar</td>\n",
       "      <td>9</td>\n",
       "      <td>0.718797</td>\n",
       "      <td>577</td>\n",
       "      <td>18.83</td>\n",
       "      <td>18.92</td>\n",
       "    </tr>\n",
       "  </tbody>\n",
       "</table>\n",
       "</div>"
      ],
      "text/plain": [
       "   InvestigationID    Name Campaign      dist tpfs minmag maxmag\n",
       "89  LC_LAGOON_TILE  LAGOON        9         0   20      0      0\n",
       "90     Quaoar_TILE  Quaoar        9  0.718797  577  18.83  18.92"
      ]
     },
     "execution_count": 334,
     "metadata": {},
     "output_type": "execute_result"
    }
   ],
   "source": [
    "obj=pickle.load(open(objfile,'rb'))\n",
    "obj[obj.Campaign=='9']"
   ]
  },
  {
   "cell_type": "code",
   "execution_count": 256,
   "metadata": {},
   "outputs": [
    {
     "ename": "NameError",
     "evalue": "name 'targlistfname' is not defined",
     "output_type": "error",
     "traceback": [
      "\u001b[0;31m---------------------------------------------------------------------------\u001b[0m",
      "\u001b[0;31mNameError\u001b[0m                                 Traceback (most recent call last)",
      "\u001b[0;32m<ipython-input-256-efe19bc82884>\u001b[0m in \u001b[0;36m<module>\u001b[0;34m()\u001b[0m\n\u001b[0;32m----> 1\u001b[0;31m \u001b[0mdf\u001b[0m\u001b[0;34m=\u001b[0m\u001b[0mpd\u001b[0m\u001b[0;34m.\u001b[0m\u001b[0mread_csv\u001b[0m\u001b[0;34m(\u001b[0m\u001b[0mtarglistfname\u001b[0m\u001b[0;34m)\u001b[0m\u001b[0;34m\u001b[0m\u001b[0m\n\u001b[0m",
      "\u001b[0;31mNameError\u001b[0m: name 'targlistfname' is not defined"
     ]
    }
   ],
   "source": [
    "df=pd.read_csv(targlistfname)"
   ]
  },
  {
   "cell_type": "code",
   "execution_count": null,
   "metadata": {},
   "outputs": [],
   "source": [
    "23958"
   ]
  },
  {
   "cell_type": "code",
   "execution_count": null,
   "metadata": {
    "collapsed": true
   },
   "outputs": [],
   "source": []
  }
 ],
 "metadata": {
  "kernelspec": {
   "display_name": "Python 3",
   "language": "python",
   "name": "python3"
  },
  "language_info": {
   "codemirror_mode": {
    "name": "ipython",
    "version": 3
   },
   "file_extension": ".py",
   "mimetype": "text/x-python",
   "name": "python",
   "nbconvert_exporter": "python",
   "pygments_lexer": "ipython3",
   "version": "3.6.2"
  }
 },
 "nbformat": 4,
 "nbformat_minor": 2
}
