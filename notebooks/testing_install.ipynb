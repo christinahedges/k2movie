{
 "cells": [
  {
   "cell_type": "code",
   "execution_count": 1,
   "metadata": {
    "collapsed": true
   },
   "outputs": [],
   "source": [
    "%load_ext autoreload\n",
    "%autoreload 2"
   ]
  },
  {
   "cell_type": "code",
   "execution_count": 14,
   "metadata": {
    "collapsed": true
   },
   "outputs": [],
   "source": [
    "import k2movie"
   ]
  },
  {
   "cell_type": "code",
   "execution_count": 15,
   "metadata": {},
   "outputs": [
    {
     "name": "stdout",
     "output_type": "stream",
     "text": [
      "-------------------------------\n",
      "Crunching K2 TPFS\n",
      "No input directory. Building URLS using k2mosaic.\n",
      "File Exists. Skipping. Set overwrite to True to overwrite.\n",
      "File Exists. Skipping. Set overwrite to True to overwrite.\n",
      "File Exists. Skipping. Set overwrite to True to overwrite.\n",
      "File Exists. Skipping. Set overwrite to True to overwrite.\n",
      "Channel 5 : No URLS found?\n",
      "Channel 6 : No URLS found?\n",
      "Channel 7 : No URLS found?\n",
      "Channel 8 : No URLS found?\n",
      "File Exists. Skipping. Set overwrite to True to overwrite.\n",
      "File Exists. Skipping. Set overwrite to True to overwrite.\n",
      "File Exists. Skipping. Set overwrite to True to overwrite.\n",
      "File Exists. Skipping. Set overwrite to True to overwrite.\n",
      "File Exists. Skipping. Set overwrite to True to overwrite.\n",
      "File Exists. Skipping. Set overwrite to True to overwrite.\n",
      "File Exists. Skipping. Set overwrite to True to overwrite.\n",
      "File Exists. Skipping. Set overwrite to True to overwrite.\n",
      "Channel 17 : No URLS found?\n",
      "Channel 18 : No URLS found?\n",
      "Channel 19 : No URLS found?\n",
      "Channel 20 : No URLS found?\n",
      "File Exists. Skipping. Set overwrite to True to overwrite.\n",
      "File Exists. Skipping. Set overwrite to True to overwrite.\n",
      "File Exists. Skipping. Set overwrite to True to overwrite.\n",
      "File Exists. Skipping. Set overwrite to True to overwrite.\n",
      "File Exists. Skipping. Set overwrite to True to overwrite.\n",
      "File Exists. Skipping. Set overwrite to True to overwrite.\n",
      "File Exists. Skipping. Set overwrite to True to overwrite.\n",
      "File Exists. Skipping. Set overwrite to True to overwrite.\n",
      "File Exists. Skipping. Set overwrite to True to overwrite.\n",
      "File Exists. Skipping. Set overwrite to True to overwrite.\n",
      "File Exists. Skipping. Set overwrite to True to overwrite.\n",
      "File Exists. Skipping. Set overwrite to True to overwrite.\n",
      "File Exists. Skipping. Set overwrite to True to overwrite.\n",
      "File Exists. Skipping. Set overwrite to True to overwrite.\n",
      "File Exists. Skipping. Set overwrite to True to overwrite.\n",
      "File Exists. Skipping. Set overwrite to True to overwrite.\n",
      "File Exists. Skipping. Set overwrite to True to overwrite.\n",
      "File Exists. Skipping. Set overwrite to True to overwrite.\n",
      "File Exists. Skipping. Set overwrite to True to overwrite.\n",
      "File Exists. Skipping. Set overwrite to True to overwrite.\n",
      "File Exists. Skipping. Set overwrite to True to overwrite.\n",
      "File Exists. Skipping. Set overwrite to True to overwrite.\n",
      "File Exists. Skipping. Set overwrite to True to overwrite.\n",
      "File Exists. Skipping. Set overwrite to True to overwrite.\n",
      "File Exists. Skipping. Set overwrite to True to overwrite.\n",
      "File Exists. Skipping. Set overwrite to True to overwrite.\n",
      "File Exists. Skipping. Set overwrite to True to overwrite.\n",
      "File Exists. Skipping. Set overwrite to True to overwrite.\n",
      "File Exists. Skipping. Set overwrite to True to overwrite.\n",
      "File Exists. Skipping. Set overwrite to True to overwrite.\n",
      "File Exists. Skipping. Set overwrite to True to overwrite.\n",
      "File Exists. Skipping. Set overwrite to True to overwrite.\n",
      "File Exists. Skipping. Set overwrite to True to overwrite.\n",
      "File Exists. Skipping. Set overwrite to True to overwrite.\n",
      "File Exists. Skipping. Set overwrite to True to overwrite.\n",
      "File Exists. Skipping. Set overwrite to True to overwrite.\n",
      "File Exists. Skipping. Set overwrite to True to overwrite.\n",
      "File Exists. Skipping. Set overwrite to True to overwrite.\n",
      "File Exists. Skipping. Set overwrite to True to overwrite.\n",
      "File Exists. Skipping. Set overwrite to True to overwrite.\n",
      "File Exists. Skipping. Set overwrite to True to overwrite.\n",
      "File Exists. Skipping. Set overwrite to True to overwrite.\n",
      "File Exists. Skipping. Set overwrite to True to overwrite.\n",
      "File Exists. Skipping. Set overwrite to True to overwrite.\n",
      "File Exists. Skipping. Set overwrite to True to overwrite.\n",
      "File Exists. Skipping. Set overwrite to True to overwrite.\n",
      "File Exists. Skipping. Set overwrite to True to overwrite.\n",
      "File Exists. Skipping. Set overwrite to True to overwrite.\n",
      "File Exists. Skipping. Set overwrite to True to overwrite.\n",
      "-------------------------------\n",
      "Campaign:\t 0\n",
      "Channel:\t 70\n",
      "-------------------------------\n",
      "132 URLs\n",
      "29 gb in astropy cache\n",
      "Downloading/Caching\n"
     ]
    }
   ],
   "source": [
    "k2movie.build('../database/')"
   ]
  },
  {
   "cell_type": "code",
   "execution_count": null,
   "metadata": {
    "collapsed": true,
    "scrolled": true
   },
   "outputs": [],
   "source": []
  },
  {
   "cell_type": "code",
   "execution_count": null,
   "metadata": {},
   "outputs": [],
   "source": []
  },
  {
   "cell_type": "code",
   "execution_count": null,
   "metadata": {
    "collapsed": true
   },
   "outputs": [],
   "source": []
  }
 ],
 "metadata": {
  "kernelspec": {
   "display_name": "Python 3",
   "language": "python",
   "name": "python3"
  },
  "language_info": {
   "codemirror_mode": {
    "name": "ipython",
    "version": 3
   },
   "file_extension": ".py",
   "mimetype": "text/x-python",
   "name": "python",
   "nbconvert_exporter": "python",
   "pygments_lexer": "ipython3",
   "version": "3.6.2"
  }
 },
 "nbformat": 4,
 "nbformat_minor": 2
}
