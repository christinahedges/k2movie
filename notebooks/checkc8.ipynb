{
 "cells": [
  {
   "cell_type": "markdown",
   "metadata": {},
   "source": [
    "To Do\n",
    "-----\n",
    "\n",
    "* Stabilize?\n",
    "* Command line tools\n",
    "* Tutorial\n",
    "* Input EPIC ID\n",
    "* Add some unit tests\n",
    "* Multiple channels. Modules come in wrong orientation?\n",
    "* Handle split campaigns...including crunch\n",
    "\n",
    "Unit Tests:\n",
    "-----------\n",
    "**Targets:**\n",
    "\n",
    "* Single star\n",
    "* Supernova\n",
    "* Dipper\n",
    "* Asteroid\n",
    "* Superstamp\n",
    "* Variable\n",
    "* Tabby\n",
    "* Pleiades\n",
    "\n",
    "**Style**\n",
    "* Single cadence\n",
    "* Multiple cadences\n",
    "* All cadences\n",
    "* Tracking\n",
    "* Multichannel"
   ]
  },
  {
   "cell_type": "code",
   "execution_count": 1,
   "metadata": {
    "collapsed": true
   },
   "outputs": [],
   "source": [
    "%load_ext autoreload\n",
    "%autoreload 2\n",
    "import k2movie"
   ]
  },
  {
   "cell_type": "code",
   "execution_count": 2,
   "metadata": {
    "collapsed": true
   },
   "outputs": [],
   "source": [
    "import astropy.units as u\n",
    "import numpy as np\n",
    "import pandas as pd\n",
    "import pickle\n",
    "import matplotlib.pyplot as plt\n",
    "%matplotlib inline\n",
    "import K2ephem\n",
    "from astropy.coordinates import SkyCoord\n",
    "import astropy.units as u\n"
   ]
  },
  {
   "cell_type": "code",
   "execution_count": 5,
   "metadata": {
    "scrolled": true
   },
   "outputs": [
    {
     "name": "stdout",
     "output_type": "stream",
     "text": [
      "Location and Target Name specified. Using Location\n",
      "Finding location on focal plane\n",
      "/Volumes/cupertino/c8-nocmr_database/c08/42/0.h5\n"
     ]
    },
    {
     "name": "stderr",
     "output_type": "stream",
     "text": [
      "WARNING: FITSFixedWarning: The WCS transformation has more axes (2) than the image it is associated with (0) [astropy.wcs.wcs]\n",
      "WARNING:astropy:FITSFixedWarning: The WCS transformation has more axes (2) than the image it is associated with (0)\n"
     ]
    },
    {
     "name": "stdout",
     "output_type": "stream",
     "text": [
      "Initialised:\n",
      "\tCampaign: 8\n",
      "\tChannel: [42]\n",
      "\tPixel Tolerance: 250\n",
      "Location and Target Name specified. Using Location\n",
      "Finding location on focal plane\n",
      "Creating data array\n",
      "Switching to channel 42\n",
      "Finished (63s)\n",
      "Creating data axes\n",
      "Creating RA/Dec Axes\n",
      "Writing to movie\n",
      "\tOutput file: ../movies/uranus_nocmr.mp4\n"
     ]
    },
    {
     "name": "stderr",
     "output_type": "stream",
     "text": [
      "/Users/ch/K2/projects/k2movie/k2movie/k2movie.py:441: RuntimeWarning: invalid value encountered in log10\n",
      "  dat=np.log10(self.ar)\n"
     ]
    },
    {
     "name": "stdout",
     "output_type": "stream",
     "text": [
      "Saving...\n",
      "Saved. (2.8e+02s)\n"
     ]
    }
   ],
   "source": [
    "mov=k2movie.movie(loc=(900,300),\n",
    "                  outfile='uranus_nocmr.mp4',\n",
    "                  channel=42,\n",
    "                  cadence='all',\n",
    "                  campaign=8,\n",
    "                  cmap='inferno',\n",
    "                  tol=250,\n",
    "                  inset=False,\n",
    "                  verbose=True,\n",
    "                  data_dir='/Volumes/cupertino/c8-nocmr_database/',\n",
    "                  output_dir='../movies/',\n",
    "                return_radec=True,scale='log',title='Uranus (No CR)',vmin=-0.17293253341754833,vmax=1.7331470895554881)\n",
    "\n",
    "#fig,ax=plt.subplots(figsize=(10,10))\n",
    "#fig=mov.inspect(ax)\n",
    "ar,ra,dec=mov.compute(return_ar=True)"
   ]
  },
  {
   "cell_type": "code",
   "execution_count": 6,
   "metadata": {},
   "outputs": [
    {
     "name": "stdout",
     "output_type": "stream",
     "text": [
      "Location and Target Name specified. Using Location\n",
      "Finding location on focal plane\n",
      "/Volumes/cupertino/c8-nocmr_database/c08/58/0.h5\n"
     ]
    },
    {
     "name": "stderr",
     "output_type": "stream",
     "text": [
      "WARNING: FITSFixedWarning: The WCS transformation has more axes (2) than the image it is associated with (0) [astropy.wcs.wcs]\n",
      "WARNING:astropy:FITSFixedWarning: The WCS transformation has more axes (2) than the image it is associated with (0)\n"
     ]
    },
    {
     "name": "stdout",
     "output_type": "stream",
     "text": [
      "Initialised:\n",
      "\tCampaign: 8\n",
      "\tChannel: [58]\n",
      "\tPixel Tolerance: 100\n",
      "Location and Target Name specified. Using Location\n",
      "Finding location on focal plane\n",
      "Creating data array\n",
      "Switching to channel 58\n",
      "Finished (12s)\n",
      "Creating data axes\n",
      "Creating RA/Dec Axes\n",
      "Writing to movie\n",
      "\tOutput file: ../movies/IC1613_nocmr.mp4\n"
     ]
    },
    {
     "name": "stderr",
     "output_type": "stream",
     "text": [
      "/Users/ch/K2/projects/k2movie/k2movie/k2movie.py:441: RuntimeWarning: invalid value encountered in log10\n",
      "  dat=np.log10(self.ar)\n"
     ]
    },
    {
     "name": "stdout",
     "output_type": "stream",
     "text": [
      "Saving...\n",
      "Saved. (1.4e+02s)\n"
     ]
    }
   ],
   "source": [
    "mov=k2movie.movie(loc=(270,720),\n",
    "                  channel=58,\n",
    "                  outfile='IC1613_nocmr.mp4',\n",
    "                  cadence='all',\n",
    "                  campaign=8,\n",
    "                  cmap='inferno',\n",
    "                  tol=100,\n",
    "                  inset=False,\n",
    "                  verbose=True,\n",
    "                  data_dir='/Volumes/cupertino/c8-nocmr_database/',\n",
    "                  output_dir='../movies/'\n",
    "                return_radec=True,scale='log',title='IC 1613 (No CR)',vmin=1.3512767941503385,vmax=2.0772315847531155)\n",
    "\n",
    "#fig,ax=plt.subplots(figsize=(10,10))\n",
    "#fig=mov.inspect(ax)\n",
    "ar,ra,dec=mov.compute(return_ar=True)"
   ]
  },
  {
   "cell_type": "code",
   "execution_count": 9,
   "metadata": {},
   "outputs": [
    {
     "name": "stdout",
     "output_type": "stream",
     "text": [
      "Location and Target Name specified. Using Location\n"
     ]
    },
    {
     "name": "stderr",
     "output_type": "stream",
     "text": [
      "WARNING: FITSFixedWarning: The WCS transformation has more axes (2) than the image it is associated with (0) [astropy.wcs.wcs]\n",
      "WARNING:astropy:FITSFixedWarning: The WCS transformation has more axes (2) than the image it is associated with (0)\n"
     ]
    },
    {
     "name": "stdout",
     "output_type": "stream",
     "text": [
      "Location and Target Name specified. Using Location\n",
      "Location and Target Name specified. Using Location\n",
      "Location and Target Name specified. Using Location\n"
     ]
    },
    {
     "name": "stderr",
     "output_type": "stream",
     "text": [
      "/Users/ch/anaconda/lib/python3.6/site-packages/ipykernel_launcher.py:30: RuntimeWarning: invalid value encountered in subtract\n"
     ]
    },
    {
     "data": {
      "text/plain": [
       "<matplotlib.figure.Figure at 0x151a80ef0>"
      ]
     },
     "metadata": {},
     "output_type": "display_data"
    }
   ],
   "source": [
    "old=k2movie.movie(loc=(900,300),\n",
    "                  channel=42,\n",
    "                  cadence=np.arange(20),\n",
    "                  campaign=8,\n",
    "                  outfile='uranus_diff.mp4',\n",
    "                  tol=250,\n",
    "                  inset=False,\n",
    "                  verbose=False,\n",
    "                  cmap='bwr',\n",
    "                  data_dir='/Volumes/cupertino/database/',\n",
    "                  output_dir='../movies/',\n",
    "                badcol='white',\n",
    "                return_radec=True,scale='linear',colorbar=True,vmin=-40,vmax=40)\n",
    "new=k2movie.movie(loc=(900,300),\n",
    "                  channel=42,\n",
    "                  cadence=np.arange(20),\n",
    "                  campaign=8,\n",
    "                  tol=250,\n",
    "                  data_dir='/Volumes/cupertino/c8-nocmr_database/',\n",
    "                return_radec=True,scale='log')\n",
    "\n",
    "old.find()\n",
    "old.populate()\n",
    "old.axes()\n",
    "old.stabilize()\n",
    "\n",
    "new.find()\n",
    "new.populate()\n",
    "\n",
    "old.ar-=new.ar\n",
    "old.vmin=-40\n",
    "old.vmax=40\n",
    "old.title='Uranus (Old - No CMR)'\n",
    "old.movie()"
   ]
  },
  {
   "cell_type": "code",
   "execution_count": 132,
   "metadata": {},
   "outputs": [
    {
     "name": "stderr",
     "output_type": "stream",
     "text": [
      "WARNING: FITSFixedWarning: The WCS transformation has more axes (2) than the image it is associated with (0) [astropy.wcs.wcs]\n",
      "WARNING:astropy:FITSFixedWarning: The WCS transformation has more axes (2) than the image it is associated with (0)\n"
     ]
    },
    {
     "name": "stdout",
     "output_type": "stream",
     "text": [
      "Location and Target Name specified. Using Location\n",
      "Location and Target Name specified. Using Location\n",
      "Location and Target Name specified. Using Location\n",
      "Location and Target Name specified. Using Location\n"
     ]
    },
    {
     "name": "stderr",
     "output_type": "stream",
     "text": [
      "/Users/ch/anaconda/lib/python3.6/site-packages/ipykernel_launcher.py:30: RuntimeWarning: invalid value encountered in subtract\n",
      "/Users/ch/K2/projects/k2movie/k2movie/k2movie.py:441: RuntimeWarning: divide by zero encountered in log10\n",
      "  dat=np.log10(self.ar)\n",
      "/Users/ch/K2/projects/k2movie/k2movie/k2movie.py:441: RuntimeWarning: invalid value encountered in log10\n",
      "  dat=np.log10(self.ar)\n"
     ]
    },
    {
     "data": {
      "text/plain": [
       "<matplotlib.figure.Figure at 0x124172f28>"
      ]
     },
     "metadata": {},
     "output_type": "display_data"
    }
   ],
   "source": [
    "old=k2movie.movie(loc=(270,720),\n",
    "                  channel=58,\n",
    "                  cadence='all',\n",
    "                  campaign=8,\n",
    "                  outfile='IC1613_diff.mp4',\n",
    "                  cmap='inferno',\n",
    "                  tol=100,\n",
    "                  inset=False,\n",
    "                  verbose=False,\n",
    "                  data_dir='/Volumes/cupertino/c8-newthreshold_database/',\n",
    "                  output_dir='../movies/',\n",
    "                return_radec=True,scale='log',colorbar=True,vmax=np.log10(5.2E3*0.7266/100.))\n",
    "new=k2movie.movie(loc=(270,720),\n",
    "                  channel=58,\n",
    "                  cadence='all',\n",
    "                  campaign=8,\n",
    "                  cmap='inferno',\n",
    "                  tol=100,\n",
    "                  data_dir='/Volumes/cupertino/database/',\n",
    "                return_radec=True,scale='log')\n",
    "\n",
    "old.find()\n",
    "old.populate()\n",
    "old.axes()\n",
    "old.stabilize()\n",
    "\n",
    "new.find()\n",
    "new.populate()\n",
    "\n",
    "old.ar-=new.ar\n",
    "old.vmin=-2\n",
    "old.vmax=2\n",
    "old.title='IC 1613 (|Old-New|)'\n",
    "old.movie()"
   ]
  },
  {
   "cell_type": "code",
   "execution_count": 17,
   "metadata": {},
   "outputs": [
    {
     "name": "stdout",
     "output_type": "stream",
     "text": [
      "Location and Target Name specified. Using Location\n"
     ]
    },
    {
     "name": "stderr",
     "output_type": "stream",
     "text": [
      "WARNING: FITSFixedWarning: The WCS transformation has more axes (2) than the image it is associated with (0) [astropy.wcs.wcs]\n",
      "WARNING:astropy:FITSFixedWarning: The WCS transformation has more axes (2) than the image it is associated with (0)\n"
     ]
    },
    {
     "name": "stdout",
     "output_type": "stream",
     "text": [
      "Location and Target Name specified. Using Location\n",
      "Location and Target Name specified. Using Location\n",
      "Location and Target Name specified. Using Location\n",
      "Location and Target Name specified. Using Location\n",
      "Location and Target Name specified. Using Location\n"
     ]
    }
   ],
   "source": [
    "old=k2movie.movie(loc=(900,300),\n",
    "                  channel=42,\n",
    "                  cadence='all',\n",
    "                  campaign=8,\n",
    "                  outfile='uranus_diff.mp4',\n",
    "                  cmap='inferno',\n",
    "                  tol=20,\n",
    "                  inset=False,\n",
    "                  verbose=False,\n",
    "                  data_dir='/Volumes/cupertino/c8-newthreshold_database/',\n",
    "                  output_dir='../movies/',\n",
    "                return_radec=True,scale='log',colorbar=True)\n",
    "new=k2movie.movie(loc=(900,300),\n",
    "                  channel=42,\n",
    "                  cadence='all',\n",
    "                  campaign=8,\n",
    "                  cmap='inferno',\n",
    "                  tol=20,\n",
    "                  data_dir='/Volumes/cupertino/database/',\n",
    "                return_radec=True,scale='log')\n",
    "no=k2movie.movie(loc=(900,300),\n",
    "                  channel=42,\n",
    "                  cadence='all',\n",
    "                  campaign=8,\n",
    "                  cmap='inferno',\n",
    "                  tol=20,\n",
    "                  data_dir='/Volumes/cupertino/c8-nocmr_database/',\n",
    "                return_radec=True,scale='log')\n",
    "\n",
    "\n",
    "\n",
    "old.find()\n",
    "old.populate()\n",
    "\n",
    "new.find()\n",
    "new.populate()\n",
    "\n",
    "no.find()\n",
    "no.populate()"
   ]
  },
  {
   "cell_type": "code",
   "execution_count": null,
   "metadata": {
    "collapsed": true
   },
   "outputs": [],
   "source": []
  },
  {
   "cell_type": "code",
   "execution_count": null,
   "metadata": {
    "collapsed": true
   },
   "outputs": [],
   "source": []
  },
  {
   "cell_type": "code",
   "execution_count": 9,
   "metadata": {
    "collapsed": true
   },
   "outputs": [],
   "source": [
    "a=old.ar.ravel()\n",
    "b=new.ar.ravel()\n",
    "pos=np.isfinite(a)&np.isfinite(b)\n",
    "a=a[pos]\n",
    "b=b[pos]"
   ]
  },
  {
   "cell_type": "code",
   "execution_count": 24,
   "metadata": {
    "collapsed": true,
    "scrolled": false
   },
   "outputs": [],
   "source": [
    "av=np.mean([(np.nanmedian(old.ar,axis=2)),(np.nanmedian(new.ar,axis=2))],axis=0)"
   ]
  },
  {
   "cell_type": "code",
   "execution_count": 49,
   "metadata": {},
   "outputs": [
    {
     "name": "stderr",
     "output_type": "stream",
     "text": [
      "/Users/ch/anaconda/lib/python3.6/site-packages/ipykernel_launcher.py:1: RuntimeWarning: invalid value encountered in subtract\n",
      "  \"\"\"Entry point for launching an IPython kernel.\n",
      "/Users/ch/anaconda/lib/python3.6/site-packages/ipykernel_launcher.py:2: RuntimeWarning: divide by zero encountered in log10\n",
      "  \n",
      "/Users/ch/anaconda/lib/python3.6/site-packages/ipykernel_launcher.py:2: RuntimeWarning: invalid value encountered in log10\n",
      "  \n"
     ]
    },
    {
     "data": {
      "text/plain": [
       "<matplotlib.colorbar.Colorbar at 0x128a180f0>"
      ]
     },
     "execution_count": 49,
     "metadata": {},
     "output_type": "execute_result"
    },
    {
     "data": {
      "image/png": "[encoded data removed]",
      "text/plain": [
       "<matplotlib.figure.Figure at 0x1289364e0>"
      ]
     },
     "metadata": {},
     "output_type": "display_data"
    }
   ],
   "source": [
    "diff=old.ar-new.ar\n",
    "plt.imshow(np.log10(1E6*(diff[:,:,2200])/av),vmin=1,vmax=4)\n",
    "plt.colorbar()"
   ]
  },
  {
   "cell_type": "code",
   "execution_count": 70,
   "metadata": {},
   "outputs": [
    {
     "name": "stderr",
     "output_type": "stream",
     "text": [
      "/Users/ch/anaconda/lib/python3.6/site-packages/ipykernel_launcher.py:1: RuntimeWarning: invalid value encountered in subtract\n",
      "  \"\"\"Entry point for launching an IPython kernel.\n",
      "/Users/ch/anaconda/lib/python3.6/site-packages/ipykernel_launcher.py:1: RuntimeWarning: divide by zero encountered in log10\n",
      "  \"\"\"Entry point for launching an IPython kernel.\n",
      "/Users/ch/anaconda/lib/python3.6/site-packages/ipykernel_launcher.py:1: RuntimeWarning: invalid value encountered in log10\n",
      "  \"\"\"Entry point for launching an IPython kernel.\n"
     ]
    },
    {
     "data": {
      "text/plain": [
       "[<matplotlib.lines.Line2D at 0x12a6decf8>]"
      ]
     },
     "execution_count": 70,
     "metadata": {},
     "output_type": "execute_result"
    },
    {
     "data": {
      "image/png": "[encoded data removed]",
      "text/plain": [
       "<matplotlib.figure.Figure at 0x129c20320>"
      ]
     },
     "metadata": {},
     "output_type": "display_data"
    }
   ],
   "source": [
    "plt.plot((np.log10(1E6*(old.ar[20,20,:]-new.ar[20,20,:])/(old.ar[20,20,:]))),ls='',marker='.')"
   ]
  },
  {
   "cell_type": "code",
   "execution_count": 112,
   "metadata": {},
   "outputs": [
    {
     "name": "stderr",
     "output_type": "stream",
     "text": [
      "/Users/ch/anaconda/lib/python3.6/site-packages/ipykernel_launcher.py:1: RuntimeWarning: divide by zero encountered in log10\n",
      "  \"\"\"Entry point for launching an IPython kernel.\n",
      "/Users/ch/anaconda/lib/python3.6/site-packages/ipykernel_launcher.py:1: RuntimeWarning: invalid value encountered in log10\n",
      "  \"\"\"Entry point for launching an IPython kernel.\n"
     ]
    },
    {
     "data": {
      "text/plain": [
       "<matplotlib.collections.PathCollection at 0x122ea83c8>"
      ]
     },
     "execution_count": 112,
     "metadata": {},
     "output_type": "execute_result"
    },
    {
     "data": {
      "image/png": "[encoded data removed]",
      "text/plain": [
       "<matplotlib.figure.Figure at 0x122099160>"
      ]
     },
     "metadata": {},
     "output_type": "display_data"
    }
   ],
   "source": [
    "plt.imshow(np.log10(diff[:,:,1000]/(50000)),vmin=-6,vmax=0)\n",
    "plt.colorbar()\n",
    "plt.scatter(34,9,c='C1')"
   ]
  },
  {
   "cell_type": "code",
   "execution_count": 134,
   "metadata": {},
   "outputs": [
    {
     "name": "stdout",
     "output_type": "stream",
     "text": [
      "37.7832\n",
      "1.57729873716\n"
     ]
    }
   ],
   "source": [
    "#TRAPPIST1 mean PDCSAP flux 5.2E3\n",
    "#TRAPPIST1 transit depth 0.7266\n",
    "print((5.2E3*0.7266/100.))\n"
   ]
  },
  {
   "cell_type": "code",
   "execution_count": 130,
   "metadata": {},
   "outputs": [
    {
     "name": "stderr",
     "output_type": "stream",
     "text": [
      "/Users/ch/anaconda/lib/python3.6/site-packages/ipykernel_launcher.py:1: RuntimeWarning: divide by zero encountered in log10\n",
      "  \"\"\"Entry point for launching an IPython kernel.\n"
     ]
    },
    {
     "data": {
      "image/png": "[encoded data removed]",
      "text/plain": [
       "<matplotlib.figure.Figure at 0x12428bc88>"
      ]
     },
     "metadata": {},
     "output_type": "display_data"
    }
   ],
   "source": [
    "plt.imshow(np.log10(np.abs(diff[:,:,100])),vmin=0,vmax=np.log10(5.2E3*0.7266/100.))\n",
    "cbar=plt.colorbar()\n"
   ]
  },
  {
   "cell_type": "code",
   "execution_count": 24,
   "metadata": {},
   "outputs": [
    {
     "name": "stderr",
     "output_type": "stream",
     "text": [
      "WARNING: FITSFixedWarning: The WCS transformation has more axes (2) than the image it is associated with (0) [astropy.wcs.wcs]\n",
      "WARNING:astropy:FITSFixedWarning: The WCS transformation has more axes (2) than the image it is associated with (0)\n"
     ]
    },
    {
     "name": "stdout",
     "output_type": "stream",
     "text": [
      "Channel: [10]\n",
      "Location and Target Name specified. Using Location\n"
     ]
    }
   ],
   "source": [
    "mov=k2movie.movie('EPIC220670436',campaign=8,tol=15,inset=False,data_dir='/Volumes/cupertino/c8-nocmr_database/',\n",
    "                  output_dir='../movies/c8_comp/',scale='linear',outfile='EPIC220670436_nocmr.mp4',cadence='all',badcol='black',title='EPIC220670436 No CMR',vmin=8000,vmax=9000)\n",
    "mov.compute()\n",
    "\n",
    "#mov=k2movie.movie('EPIC220670436',campaign=8,tol=15,inset=False,data_dir='/Volumes/cupertino/database/',\n",
    "#                  output_dir='../movies/c8_comp/',outfile='EPIC220670436_MAST.mp4',cadence='all',badcol='black',title='EPIC220670436 MAST',vmin=0,vmax=3)\n",
    "#mov.compute()\n",
    "\n",
    "#mov=k2movie.movie('EPIC220670436',campaign=8,tol=15,inset=False,data_dir='/Volumes/cupertino/c8-newthreshold_database/',\n",
    "#                  output_dir='../movies/c8_comp/',outfile='EPIC220670436_NewThreshold.mp4',cadence='all',badcol='black',title='EPIC220670436 New Threshold',vmin=0,vmax=3)\n",
    "#mov.compute()\n",
    "\n"
   ]
  },
  {
   "cell_type": "code",
   "execution_count": null,
   "metadata": {
    "collapsed": true
   },
   "outputs": [],
   "source": []
  },
  {
   "cell_type": "code",
   "execution_count": null,
   "metadata": {
    "collapsed": true
   },
   "outputs": [],
   "source": []
  }
 ],
 "metadata": {
  "kernelspec": {
   "display_name": "Python 3",
   "language": "python",
   "name": "python3"
  },
  "language_info": {
   "codemirror_mode": {
    "name": "ipython",
    "version": 3
   },
   "file_extension": ".py",
   "mimetype": "text/x-python",
   "name": "python",
   "nbconvert_exporter": "python",
   "pygments_lexer": "ipython3",
   "version": "3.6.2"
  }
 },
 "nbformat": 4,
 "nbformat_minor": 2
}
